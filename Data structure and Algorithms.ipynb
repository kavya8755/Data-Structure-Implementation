{
 "cells": [
  {
   "cell_type": "code",
   "execution_count": 1,
   "id": "f819239d",
   "metadata": {},
   "outputs": [
    {
     "name": "stdout",
     "output_type": "stream",
     "text": [
      "20\n",
      "21\n",
      "23\n",
      "5\n",
      "7\n"
     ]
    }
   ],
   "source": [
    "l = [20,21,23,5,7]\n",
    "i=0\n",
    "for x in l:\n",
    "    print(x)"
   ]
  },
  {
   "cell_type": "markdown",
   "id": "ee7b8b70",
   "metadata": {},
   "source": [
    "# Binary Search Tree"
   ]
  },
  {
   "cell_type": "code",
   "execution_count": 5,
   "id": "b2bfb0aa",
   "metadata": {},
   "outputs": [],
   "source": [
    "class Node:\n",
    "    def __init__(self, data):\n",
    "        self.left = None\n",
    "        self.right = None\n",
    "        self.data = data\n",
    "    \n",
    "    def insert(self, data):\n",
    "        if self.data:\n",
    "            if data < self.data:\n",
    "                if self.left is None:\n",
    "                    self.left = Node(data)\n",
    "                else:\n",
    "                    self.left.insert(data)\n",
    "            elif data > self.data:\n",
    "                if self.right is None:\n",
    "                    self.right = Node(data)\n",
    "                else:\n",
    "                    self.right.insert(data)\n",
    "        else:\n",
    "            self.data = data\n",
    "            \n",
    "    def PrintTree(self):\n",
    "        if self.left:\n",
    "            self.left.PrintTree()\n",
    "        print(self.data)\n",
    "        if self.right:\n",
    "            self.right.PrintTree()\n"
   ]
  },
  {
   "cell_type": "code",
   "execution_count": 8,
   "id": "50f656ce",
   "metadata": {},
   "outputs": [
    {
     "name": "stdout",
     "output_type": "stream",
     "text": [
      "3\n",
      "6\n",
      "12\n",
      "14\n"
     ]
    }
   ],
   "source": [
    "root = Node(12)\n",
    "root.insert(6)\n",
    "root.insert(14)\n",
    "root.insert(3)\n",
    "root.PrintTree()"
   ]
  },
  {
   "cell_type": "code",
   "execution_count": 3,
   "id": "8b88e0d1",
   "metadata": {},
   "outputs": [
    {
     "name": "stdout",
     "output_type": "stream",
     "text": [
      "10\n"
     ]
    }
   ],
   "source": [
    "\n",
    "root = Node(12)\n",
    "root.insert(6)\n",
    "root.insert(14)\n",
    "root.insert(3)\n",
    "\n",
    "root.PrintTree()"
   ]
  },
  {
   "cell_type": "markdown",
   "id": "ec87a27a",
   "metadata": {},
   "source": [
    "# Knapsack"
   ]
  },
  {
   "cell_type": "code",
   "execution_count": 9,
   "id": "4f5da104",
   "metadata": {},
   "outputs": [
    {
     "name": "stdout",
     "output_type": "stream",
     "text": [
      "350\n"
     ]
    }
   ],
   "source": [
    "def knapSack(W, wt, val, n):\n",
    "   K = [[0 for x in range(W + 1)] for x in range(n + 1)]\n",
    "   #Table in bottom up manner\n",
    "   for i in range(n + 1):\n",
    "      for w in range(W + 1):\n",
    "         if i == 0 or w == 0:\n",
    "            K[i][w] = 0\n",
    "         elif wt[i-1] <= w:\n",
    "            K[i][w] = max(val[i-1] + K[i-1][w-wt[i-1]], K[i-1][w])\n",
    "         else:\n",
    "            K[i][w] = K[i-1][w]\n",
    "   return K[n][W]\n",
    "#Main\n",
    "val = [50,100,150,200]\n",
    "wt = [8,16,32,40]\n",
    "W = 64\n",
    "n = len(val)\n",
    "print(knapSack(W, wt, val, n))"
   ]
  },
  {
   "cell_type": "code",
   "execution_count": 12,
   "id": "dcf89f06",
   "metadata": {},
   "outputs": [
    {
     "name": "stdout",
     "output_type": "stream",
     "text": [
      "350\n"
     ]
    }
   ],
   "source": [
    "def knapSack(C, wt_list, pft_list):\n",
    "    n = len(pft_list)\n",
    "    Table = [[0 for x in range(C+1)] for x in range(n+1)]\n",
    "    \n",
    "    for i in range(n+1):\n",
    "        for wt in range(C+1):\n",
    "            if i == 0 or wt == 0:\n",
    "                Table[i][wt] = 0\n",
    "            elif wt_list[i-1] <= wt:\n",
    "                Table[i][wt] = max(pft_list[i-1] + Table[i-1][wt-wt_list[i-1]], Table[i-1][wt])\n",
    "            else:\n",
    "                Table[i][wt] = Table[i-1][wt]\n",
    "    return Table[n][C]\n",
    "pft_list = [50,100,150,200]\n",
    "wt_list = [8,16,32,40]\n",
    "C = 64\n",
    "print(knapSack(C, wt_list, pft_list))"
   ]
  },
  {
   "cell_type": "code",
   "execution_count": 13,
   "id": "db282d20",
   "metadata": {},
   "outputs": [
    {
     "name": "stdout",
     "output_type": "stream",
     "text": [
      "40\n"
     ]
    }
   ],
   "source": [
    "def knapSack(C, wt_list, pft_list):\n",
    "    n = len(pft_list)\n",
    "    Table = [[0 for x in range(C+1)] for x in range(n+1)]\n",
    "    \n",
    "    for i in range(n+1):\n",
    "        for wt in range(C+1):\n",
    "            if i == 0 or wt == 0:\n",
    "                Table[i][wt] = 0\n",
    "            elif wt_list[i-1] <= wt:\n",
    "                Table[i][wt] = max(pft_list[i-1] + Table[i-1][wt-wt_list[i-1]], Table[i-1][wt])\n",
    "            else:\n",
    "                Table[i][wt] = Table[i-1][wt]\n",
    "    return Table[n][C]\n",
    "pft_list = [10,12,28]\n",
    "wt_list = [1,2,4]\n",
    "C = 6\n",
    "print(knapSack(C, wt_list, pft_list))"
   ]
  },
  {
   "cell_type": "code",
   "execution_count": 14,
   "id": "1f792184",
   "metadata": {},
   "outputs": [
    {
     "name": "stdout",
     "output_type": "stream",
     "text": [
      "350\n"
     ]
    }
   ],
   "source": [
    "#Returns the maximum value that can be stored by the bag\n",
    "def knapSack(W, wt, val, n):\n",
    "   # initial conditions\n",
    "   if n == 0 or W == 0 :\n",
    "      return 0\n",
    "   # If weight is higher than capacity then it is not included\n",
    "   if (wt[n-1] > W):\n",
    "      return knapSack(W, wt, val, n-1)\n",
    "   # return either nth item being included or not\n",
    "   else:\n",
    "      return max(val[n-1] + knapSack(W-wt[n-1], wt, val, n-1),\n",
    "         knapSack(W, wt, val, n-1))\n",
    "# To test above function\n",
    "val = [50,100,150,200]\n",
    "wt = [8,16,32,40]\n",
    "W = 64\n",
    "n = len(val)\n",
    "print (knapSack(W, wt, val, n))\n"
   ]
  },
  {
   "cell_type": "markdown",
   "id": "f0e8051a",
   "metadata": {},
   "source": [
    "# Link List"
   ]
  },
  {
   "cell_type": "code",
   "execution_count": 156,
   "id": "a9737e28",
   "metadata": {},
   "outputs": [],
   "source": [
    "class Node:\n",
    "    def __init__(self, data=None):\n",
    "        self.data = data\n",
    "        self.next = None\n",
    "\n",
    "class Header:\n",
    "    def __init__(self):\n",
    "        self.head = None\n",
    "        \n",
    "    def print_lst(self):\n",
    "        if self.head is None:\n",
    "            print()\n",
    "        pointer = self.head\n",
    "        while pointer is not None:\n",
    "            print(pointer.data)\n",
    "            pointer = pointer.next\n",
    "    \n",
    "    #insert at the end       \n",
    "    def insert_elem_end(self, elem):\n",
    "        if self.head is None:\n",
    "            self.head = Node(elem)\n",
    "            return\n",
    "        pointer = self.head\n",
    "        \n",
    "        while (pointer.next):\n",
    "            pointer = pointer.next\n",
    "        pointer.next = Node(elem)\n",
    "        \n",
    "    #insert elem at begining\n",
    "    def insert_elem_begin(self, elem):\n",
    "        if self.head is None:\n",
    "            self.head = Node(elem)\n",
    "            \n",
    "        else:\n",
    "            pointer = self.head\n",
    "            self.head = Node(elem)\n",
    "            self.head.next = pointer\n",
    "            \n",
    "    def insert_after_elem(self, after_elem, elem):\n",
    "        pointer = self.head\n",
    "        while(not(pointer.data == after_elem)):\n",
    "            pointer = pointer.next\n",
    "        temp_pointer = pointer.next\n",
    "        pointer.next = Node(elem)\n",
    "        pointer.next.next = temp_pointer\n",
    "        \n",
    "    def delete_elem(self, elem):\n",
    "        if self.head is None:\n",
    "            return\n",
    "        if self.head.next is None and self.head.data == elem:\n",
    "            del self.head\n",
    "            return\n",
    "        if self.head.data == elem:\n",
    "            pointer = self.head.next\n",
    "            del self.head\n",
    "            self.head = pointer\n",
    "            return\n",
    "        pointer = self.head\n",
    "        \n",
    "        \n",
    "        while(not(pointer.next.data == elem)):\n",
    "            pointer = pointer.next\n",
    "        temp_pointer = pointer.next.next\n",
    "        del pointer.next\n",
    "        pointer.next = temp_pointer\n",
    "        \n",
    "    def print_reverse(self, temp):\n",
    "        if (temp):\n",
    "            self.print_reverse(temp.next)\n",
    "            print(temp.data, end=' ')\n",
    "        else:\n",
    "            return\n",
    "        \n",
    "        \n",
    "        \n",
    "        "
   ]
  },
  {
   "cell_type": "code",
   "execution_count": 157,
   "id": "e33ed429",
   "metadata": {},
   "outputs": [
    {
     "name": "stdout",
     "output_type": "stream",
     "text": [
      "4\n",
      "5\n",
      "6\n",
      "11\n",
      "7\n",
      "8\n"
     ]
    }
   ],
   "source": [
    "lst = Header()\n",
    "lst.head = Node(5)\n",
    "e1 = Node(6)\n",
    "e2 = Node(7)\n",
    "lst.head.next = e1\n",
    "e1.next = e2\n",
    "lst.insert_elem_end(8)\n",
    "lst.insert_elem_end(9)\n",
    "lst.insert_elem_begin(4)\n",
    "lst.insert_after_elem(6,11)\n",
    "lst.delete_elem(9)\n",
    "lst.print_lst()"
   ]
  },
  {
   "cell_type": "code",
   "execution_count": 158,
   "id": "0326b0bf",
   "metadata": {},
   "outputs": [
    {
     "name": "stdout",
     "output_type": "stream",
     "text": [
      "8 7 11 6 5 4 "
     ]
    }
   ],
   "source": [
    "lst.print_reverse(lst.head)"
   ]
  },
  {
   "cell_type": "markdown",
   "id": "e3260007",
   "metadata": {},
   "source": [
    "### Doubly link list"
   ]
  },
  {
   "cell_type": "code",
   "execution_count": 181,
   "id": "9706a3dd",
   "metadata": {},
   "outputs": [],
   "source": [
    "class NodeDLL:\n",
    "    def __init__(self, data):\n",
    "        self.data = data\n",
    "        self.prev = None\n",
    "        self.next = None\n",
    "    \n",
    "class DoublyLL:\n",
    "    def header(self):\n",
    "        self.head = None\n",
    "        \n",
    "    def insert_elem(self, elem):\n",
    "        if self.head is None:\n",
    "            self.head = NodeDLL(elem)\n",
    "        else:\n",
    "            p = self.head\n",
    "            while (p.next):\n",
    "                p = p.next\n",
    "            p.next = NodeDLL(elem)\n",
    "            \n",
    "    def print_list(self):\n",
    "        if self.head is None:\n",
    "            print(\"\")\n",
    "        else:\n",
    "            p = self.head\n",
    "            while(p):\n",
    "                print(p.data)\n",
    "                p = p.next\n",
    "        \n",
    "    def insert_beginning(self, elem):\n",
    "        if self.head is None:\n",
    "            self.head = NodeDLL(elem)\n",
    "        else:\n",
    "            p = self.head\n",
    "            self.head = NodeDLL(elem)\n",
    "            self.head.next = p\n",
    "            \n",
    "    def insert_end(self, elem):\n",
    "        if self.head is None:\n",
    "            self.head = NodeDLL(elem)\n",
    "        else:\n",
    "            p = self.head\n",
    "            while(p.next):\n",
    "                p = p.next\n",
    "            p.next = NodeDLL(elem)\n",
    "            "
   ]
  },
  {
   "cell_type": "code",
   "execution_count": 182,
   "id": "5f21ab4d",
   "metadata": {},
   "outputs": [
    {
     "name": "stdout",
     "output_type": "stream",
     "text": [
      "5\n",
      "10\n",
      "14\n"
     ]
    }
   ],
   "source": [
    "dList = DoublyLL()\n",
    "dList.header()\n",
    "dList.insert_elem(5)\n",
    "dList.insert_elem(10)\n",
    "dList.insert_elem(14)\n",
    "dList.print_list()"
   ]
  },
  {
   "cell_type": "code",
   "execution_count": 183,
   "id": "d88ad1f4",
   "metadata": {},
   "outputs": [
    {
     "name": "stdout",
     "output_type": "stream",
     "text": [
      "-13\n",
      "1\n",
      "5\n",
      "10\n",
      "14\n"
     ]
    }
   ],
   "source": [
    "dList.insert_beginning(1)\n",
    "dList.insert_beginning(-13)\n",
    "dList.print_list()"
   ]
  },
  {
   "cell_type": "code",
   "execution_count": 184,
   "id": "877700c7",
   "metadata": {},
   "outputs": [
    {
     "name": "stdout",
     "output_type": "stream",
     "text": [
      "-13\n",
      "1\n",
      "5\n",
      "10\n",
      "14\n",
      "113\n"
     ]
    }
   ],
   "source": [
    "dList.insert_end(113)\n",
    "dList.print_list()"
   ]
  },
  {
   "cell_type": "code",
   "execution_count": 185,
   "id": "badd7db9",
   "metadata": {},
   "outputs": [
    {
     "name": "stdout",
     "output_type": "stream",
     "text": [
      "-13\n",
      "1\n",
      "5\n",
      "10\n",
      "14\n",
      "113\n",
      "115\n"
     ]
    }
   ],
   "source": [
    "dList.insert_end(115)\n",
    "dList.print_list()"
   ]
  },
  {
   "cell_type": "markdown",
   "id": "e9ad64bc",
   "metadata": {},
   "source": [
    "# Stack"
   ]
  },
  {
   "cell_type": "code",
   "execution_count": 15,
   "id": "ba5a793a",
   "metadata": {},
   "outputs": [],
   "source": [
    "class stack_imp:\n",
    "    def __init__(self,size):\n",
    "        self.max = size\n",
    "        self.stack = [0 for _ in range(self.max)]\n",
    "        self.top = -1\n",
    "        \n",
    "    def push(self,item):\n",
    "        if(top==self.max-1):\n",
    "            print(\"Overflow\")\n",
    "        else:\n",
    "            self.top += 1\n",
    "            self.stack[self.top]=item\n",
    "            return\n",
    "\n",
    "    def pop(self):\n",
    "        if(self.top==-1):\n",
    "            print(\"Underflow\")\n",
    "            return -1\n",
    "        else:\n",
    "            temp=self.stack[self.top]\n",
    "            selftop -= 1\n",
    "            return temp\n",
    "    def print_stack(self):\n",
    "        print(self.stack)\n"
   ]
  },
  {
   "cell_type": "code",
   "execution_count": 17,
   "id": "d03e7eaa",
   "metadata": {},
   "outputs": [
    {
     "data": {
      "text/plain": [
       "<bound method stack_imp.print_stack of <__main__.stack_imp object at 0x105647d30>>"
      ]
     },
     "execution_count": 17,
     "metadata": {},
     "output_type": "execute_result"
    }
   ],
   "source": [
    "my_stack = stack_imp(5)\n",
    "my_stack.print_stack\n",
    "my_stack.push(5)\n",
    "my_stack.print_stack"
   ]
  },
  {
   "cell_type": "code",
   "execution_count": 4,
   "id": "dabdf3d9",
   "metadata": {},
   "outputs": [
    {
     "ename": "UnboundLocalError",
     "evalue": "local variable 'top' referenced before assignment",
     "output_type": "error",
     "traceback": [
      "\u001b[0;31m---------------------------------------------------------------------------\u001b[0m",
      "\u001b[0;31mUnboundLocalError\u001b[0m                         Traceback (most recent call last)",
      "\u001b[0;32m<ipython-input-4-b1f49b3158a8>\u001b[0m in \u001b[0;36m<module>\u001b[0;34m\u001b[0m\n\u001b[0;32m----> 1\u001b[0;31m \u001b[0mpush\u001b[0m\u001b[0;34m(\u001b[0m\u001b[0;36m5\u001b[0m\u001b[0;34m)\u001b[0m\u001b[0;34m\u001b[0m\u001b[0;34m\u001b[0m\u001b[0m\n\u001b[0m\u001b[1;32m      2\u001b[0m \u001b[0mprint\u001b[0m\u001b[0;34m(\u001b[0m\u001b[0mstack\u001b[0m\u001b[0;34m)\u001b[0m\u001b[0;34m\u001b[0m\u001b[0;34m\u001b[0m\u001b[0m\n",
      "\u001b[0;32m<ipython-input-3-8fa9667d5375>\u001b[0m in \u001b[0;36mpush\u001b[0;34m(item)\u001b[0m\n\u001b[1;32m      1\u001b[0m \u001b[0;32mdef\u001b[0m \u001b[0mpush\u001b[0m\u001b[0;34m(\u001b[0m\u001b[0mitem\u001b[0m\u001b[0;34m)\u001b[0m\u001b[0;34m:\u001b[0m\u001b[0;34m\u001b[0m\u001b[0;34m\u001b[0m\u001b[0m\n\u001b[0;32m----> 2\u001b[0;31m     \u001b[0;32mif\u001b[0m\u001b[0;34m(\u001b[0m\u001b[0mtop\u001b[0m\u001b[0;34m==\u001b[0m\u001b[0mmax\u001b[0m\u001b[0;34m-\u001b[0m\u001b[0;36m1\u001b[0m\u001b[0;34m)\u001b[0m\u001b[0;34m:\u001b[0m\u001b[0;34m\u001b[0m\u001b[0;34m\u001b[0m\u001b[0m\n\u001b[0m\u001b[1;32m      3\u001b[0m         \u001b[0mprint\u001b[0m\u001b[0;34m(\u001b[0m\u001b[0;34m\"Overflow\"\u001b[0m\u001b[0;34m)\u001b[0m\u001b[0;34m\u001b[0m\u001b[0;34m\u001b[0m\u001b[0m\n\u001b[1;32m      4\u001b[0m     \u001b[0;32melse\u001b[0m\u001b[0;34m:\u001b[0m\u001b[0;34m\u001b[0m\u001b[0;34m\u001b[0m\u001b[0m\n\u001b[1;32m      5\u001b[0m         \u001b[0mtop\u001b[0m \u001b[0;34m+=\u001b[0m \u001b[0;36m1\u001b[0m\u001b[0;34m\u001b[0m\u001b[0;34m\u001b[0m\u001b[0m\n",
      "\u001b[0;31mUnboundLocalError\u001b[0m: local variable 'top' referenced before assignment"
     ]
    }
   ],
   "source": []
  },
  {
   "cell_type": "markdown",
   "id": "3d43f3a8",
   "metadata": {},
   "source": [
    "# longest common subsequence"
   ]
  },
  {
   "cell_type": "code",
   "execution_count": 96,
   "id": "3c4f2681",
   "metadata": {},
   "outputs": [],
   "source": [
    "X = ['A','A','A']\n",
    "Y = ['A','A','A','A']\n",
    "\n",
    "n = len(X)\n",
    "m = len(Y)"
   ]
  },
  {
   "cell_type": "code",
   "execution_count": 97,
   "id": "30671b92",
   "metadata": {},
   "outputs": [
    {
     "data": {
      "text/plain": [
       "[[0, 0, 0, 0, 0], [0, 0, 0, 0, 0], [0, 0, 0, 0, 0], [0, 0, 0, 0, 0]]"
      ]
     },
     "execution_count": 97,
     "metadata": {},
     "output_type": "execute_result"
    }
   ],
   "source": [
    "T = [[0 for i in range(m+1)] for j in range(n+1)] \n",
    "T"
   ]
  },
  {
   "cell_type": "code",
   "execution_count": 103,
   "id": "2de92003",
   "metadata": {},
   "outputs": [
    {
     "ename": "IndexError",
     "evalue": "list index out of range",
     "output_type": "error",
     "traceback": [
      "\u001b[0;31m---------------------------------------------------------------------------\u001b[0m",
      "\u001b[0;31mIndexError\u001b[0m                                Traceback (most recent call last)",
      "\u001b[0;32m<ipython-input-103-efb131fe1753>\u001b[0m in \u001b[0;36m<module>\u001b[0;34m\u001b[0m\n\u001b[1;32m      1\u001b[0m \u001b[0;32mfor\u001b[0m \u001b[0mi\u001b[0m \u001b[0;32min\u001b[0m \u001b[0mrange\u001b[0m\u001b[0;34m(\u001b[0m\u001b[0;36m1\u001b[0m\u001b[0;34m,\u001b[0m\u001b[0mm\u001b[0m\u001b[0;34m+\u001b[0m\u001b[0;36m1\u001b[0m\u001b[0;34m)\u001b[0m\u001b[0;34m:\u001b[0m\u001b[0;34m\u001b[0m\u001b[0;34m\u001b[0m\u001b[0m\n\u001b[1;32m      2\u001b[0m     \u001b[0;32mfor\u001b[0m \u001b[0mj\u001b[0m \u001b[0;32min\u001b[0m \u001b[0mrange\u001b[0m\u001b[0;34m(\u001b[0m\u001b[0;36m1\u001b[0m\u001b[0;34m,\u001b[0m\u001b[0mn\u001b[0m\u001b[0;34m+\u001b[0m\u001b[0;36m1\u001b[0m\u001b[0;34m)\u001b[0m\u001b[0;34m:\u001b[0m\u001b[0;34m\u001b[0m\u001b[0;34m\u001b[0m\u001b[0m\n\u001b[0;32m----> 3\u001b[0;31m         \u001b[0;32mif\u001b[0m\u001b[0;34m(\u001b[0m\u001b[0mX\u001b[0m\u001b[0;34m[\u001b[0m\u001b[0mi\u001b[0m\u001b[0;34m-\u001b[0m\u001b[0;36m1\u001b[0m\u001b[0;34m]\u001b[0m \u001b[0;34m==\u001b[0m \u001b[0mY\u001b[0m\u001b[0;34m[\u001b[0m\u001b[0mj\u001b[0m\u001b[0;34m-\u001b[0m\u001b[0;36m1\u001b[0m\u001b[0;34m]\u001b[0m\u001b[0;34m)\u001b[0m\u001b[0;34m:\u001b[0m\u001b[0;34m\u001b[0m\u001b[0;34m\u001b[0m\u001b[0m\n\u001b[0m\u001b[1;32m      4\u001b[0m             \u001b[0mT\u001b[0m\u001b[0;34m[\u001b[0m\u001b[0mi\u001b[0m\u001b[0;34m]\u001b[0m\u001b[0;34m[\u001b[0m\u001b[0mj\u001b[0m\u001b[0;34m]\u001b[0m \u001b[0;34m=\u001b[0m \u001b[0mT\u001b[0m\u001b[0;34m[\u001b[0m\u001b[0mi\u001b[0m\u001b[0;34m-\u001b[0m\u001b[0;36m1\u001b[0m\u001b[0;34m]\u001b[0m\u001b[0;34m[\u001b[0m\u001b[0mj\u001b[0m\u001b[0;34m-\u001b[0m\u001b[0;36m1\u001b[0m\u001b[0;34m]\u001b[0m \u001b[0;34m+\u001b[0m \u001b[0;36m1\u001b[0m\u001b[0;34m\u001b[0m\u001b[0;34m\u001b[0m\u001b[0m\n\u001b[1;32m      5\u001b[0m         \u001b[0;32melse\u001b[0m\u001b[0;34m:\u001b[0m\u001b[0;34m\u001b[0m\u001b[0;34m\u001b[0m\u001b[0m\n",
      "\u001b[0;31mIndexError\u001b[0m: list index out of range"
     ]
    }
   ],
   "source": [
    "for i in range(1,m+1):\n",
    "    for j in range(1,n+1):\n",
    "        if(X[i-1] == Y[j-1]):\n",
    "            T[i][j] = T[i-1][j-1] + 1\n",
    "        else:\n",
    "            T[i][j] = max(T[i-1][j], T[i][j-1])\n",
    "T"
   ]
  },
  {
   "cell_type": "code",
   "execution_count": 102,
   "id": "94880431",
   "metadata": {},
   "outputs": [
    {
     "name": "stdout",
     "output_type": "stream",
     "text": [
      "Length of LCS is  [[0, 0, 0, 0, 0], [0, 1, 1, 1, 1], [0, 1, 2, 2, 2], [0, 1, 2, 3, 3]]\n"
     ]
    }
   ],
   "source": [
    "\n",
    "# Dynamic Programming implementation of LCS problem\n",
    "  \n",
    "def lcs(X, Y):\n",
    "    # find the length of the strings\n",
    "    m = len(X)\n",
    "    n = len(Y)\n",
    "  \n",
    "    # declaring the array for storing the dp values\n",
    "    L = [[None]*(n + 1) for i in range(m + 1)]\n",
    "  \n",
    "    \"\"\"Following steps build L[m + 1][n + 1] in bottom up fashion\n",
    "    Note: L[i][j] contains length of LCS of X[0..i-1]\n",
    "    and Y[0..j-1]\"\"\"\n",
    "    for i in range(m + 1):\n",
    "        for j in range(n + 1):\n",
    "            if i == 0 or j == 0 :\n",
    "                L[i][j] = 0\n",
    "            elif X[i-1] == Y[j-1]:\n",
    "                L[i][j] = L[i-1][j-1]+1\n",
    "            else:\n",
    "                L[i][j] = max(L[i-1][j], L[i][j-1])\n",
    "  \n",
    "    # L[m][n] contains the length of LCS of X[0..n-1] & Y[0..m-1]\n",
    "    return L\n",
    "# end of function lcs\n",
    "  \n",
    "  \n",
    "# Driver program to test the above function\n",
    "# X = \"AGGTAB\"\n",
    "# Y = \"GXTXAYB\"\n",
    "X = ['A','A','A']\n",
    "Y = ['A','A','A','A']\n",
    "print(\"Length of LCS is \", lcs(X, Y))\n",
    "  \n",
    "# This code is contributed by Nikhil Kumar Singh(nickzuck_007)"
   ]
  },
  {
   "cell_type": "code",
   "execution_count": 19,
   "id": "424c1320",
   "metadata": {},
   "outputs": [
    {
     "name": "stdout",
     "output_type": "stream",
     "text": [
      "Enter input : tiger\n",
      "<class 'str'>\n",
      "Enter four number : tiger 5 \"\" t\n",
      "tiger 5 \"\" t\n",
      "Enter four number : 3 5 4 56\n",
      "68\n",
      "Enter numbers : 3,3,5,7,8\n",
      "[3, 3, 5, 7, 8]\n",
      "3 4 5\n",
      "12\n",
      "3\n",
      "4\n",
      "34\n"
     ]
    }
   ],
   "source": [
    "val = input(\"Enter input : \")\n",
    "print(type(val))\n",
    "a, b, x, y = input(\"Enter four values : \").split()\n",
    "print(a,b,x,y)\n",
    "a, b, x, y = [int(x) for x in input(\"Enter four number : \").split()]\n",
    "print(a+b+x+y)\n",
    "list_ = [int(x) for x in input(\"Enter numbers : \").split(\",\")]\n",
    "print(list_)\n",
    "a, b, c = map(int, input().split())\n",
    "print(a+b+c)\n",
    "x, y = input(), input()\n",
    "print(x+y)"
   ]
  },
  {
   "cell_type": "code",
   "execution_count": 52,
   "id": "8100f75d",
   "metadata": {},
   "outputs": [
    {
     "name": "stdout",
     "output_type": "stream",
     "text": [
      "Hi \n",
      "Hello\n",
      "Hello\n",
      "Hello from\n",
      "the other side#second line\n",
      "0, 1, 2, 3, 4, 5, 6, 7, 8, 9, "
     ]
    }
   ],
   "source": [
    "print(\"Hi \\nHello\")\n",
    "print(\"Hello\")\n",
    "print(\"Hello from\\nthe other side\", sep=\"#\", end='#') # end = '\\n'\n",
    "print(\"second line\")\n",
    "for i in range(10):\n",
    "    print(i, end=', ')"
   ]
  },
  {
   "cell_type": "code",
   "execution_count": 90,
   "id": "c33db5a2",
   "metadata": {},
   "outputs": [
    {
     "name": "stdout",
     "output_type": "stream",
     "text": [
      "<class 'tuple'>\n"
     ]
    }
   ],
   "source": [
    "list1 = [1, [2, 3], (4, 5), False, \"No\"]\n",
    "print(type(list1[2]))"
   ]
  },
  {
   "cell_type": "code",
   "execution_count": 59,
   "id": "20ceb10b",
   "metadata": {},
   "outputs": [
    {
     "name": "stdout",
     "output_type": "stream",
     "text": [
      "False\n"
     ]
    }
   ],
   "source": [
    "print(list1[-2])"
   ]
  },
  {
   "cell_type": "code",
   "execution_count": 62,
   "id": "b99adaeb",
   "metadata": {},
   "outputs": [
    {
     "data": {
      "text/plain": [
       "[[2, 3], (4, 5), False]"
      ]
     },
     "execution_count": 62,
     "metadata": {},
     "output_type": "execute_result"
    }
   ],
   "source": [
    "list1[1:4]"
   ]
  },
  {
   "cell_type": "code",
   "execution_count": 63,
   "id": "b5c319aa",
   "metadata": {},
   "outputs": [
    {
     "data": {
      "text/plain": [
       "[1, [2, 3], (4, 5)]"
      ]
     },
     "execution_count": 63,
     "metadata": {},
     "output_type": "execute_result"
    }
   ],
   "source": [
    "list1[:-2]"
   ]
  },
  {
   "cell_type": "code",
   "execution_count": 64,
   "id": "f81fc90b",
   "metadata": {},
   "outputs": [
    {
     "data": {
      "text/plain": [
       "[1, [2, 3], (4, 5), False, 'Yes']"
      ]
     },
     "execution_count": 64,
     "metadata": {},
     "output_type": "execute_result"
    }
   ],
   "source": [
    "list1[-1] = \"Yes\"\n",
    "list1"
   ]
  },
  {
   "cell_type": "code",
   "execution_count": 65,
   "id": "90107457",
   "metadata": {},
   "outputs": [],
   "source": [
    "del list1[0]"
   ]
  },
  {
   "cell_type": "code",
   "execution_count": 66,
   "id": "b6415ef9",
   "metadata": {},
   "outputs": [
    {
     "data": {
      "text/plain": [
       "[[2, 3], (4, 5), False, 'Yes']"
      ]
     },
     "execution_count": 66,
     "metadata": {},
     "output_type": "execute_result"
    }
   ],
   "source": [
    "list1"
   ]
  },
  {
   "cell_type": "code",
   "execution_count": 81,
   "id": "5b240087",
   "metadata": {},
   "outputs": [
    {
     "data": {
      "text/plain": [
       "[1, [2, 3], (4, 5), 7, 8, 'No']"
      ]
     },
     "execution_count": 81,
     "metadata": {},
     "output_type": "execute_result"
    }
   ],
   "source": [
    "list1[3:4] = [7,8]\n",
    "list1"
   ]
  },
  {
   "cell_type": "code",
   "execution_count": 80,
   "id": "bf1eb088",
   "metadata": {},
   "outputs": [
    {
     "data": {
      "text/plain": [
       "[1, [2, 3], (4, 5), False, 'No']"
      ]
     },
     "execution_count": 80,
     "metadata": {},
     "output_type": "execute_result"
    }
   ],
   "source": [
    "list1"
   ]
  },
  {
   "cell_type": "code",
   "execution_count": 82,
   "id": "7977f54a",
   "metadata": {},
   "outputs": [],
   "source": [
    "mytuple=1,2,3"
   ]
  },
  {
   "cell_type": "code",
   "execution_count": 83,
   "id": "b404c9ba",
   "metadata": {},
   "outputs": [
    {
     "data": {
      "text/plain": [
       "(1, 2, 3)"
      ]
     },
     "execution_count": 83,
     "metadata": {},
     "output_type": "execute_result"
    }
   ],
   "source": [
    "mytuple"
   ]
  },
  {
   "cell_type": "code",
   "execution_count": 84,
   "id": "31ac18c9",
   "metadata": {},
   "outputs": [
    {
     "name": "stdout",
     "output_type": "stream",
     "text": [
      "1 2 3\n"
     ]
    }
   ],
   "source": [
    "a,b,c=mytuple\n",
    "print(a,b,c)"
   ]
  },
  {
   "cell_type": "code",
   "execution_count": 85,
   "id": "5892968f",
   "metadata": {},
   "outputs": [
    {
     "data": {
      "text/plain": [
       "tuple"
      ]
     },
     "execution_count": 85,
     "metadata": {},
     "output_type": "execute_result"
    }
   ],
   "source": [
    "a=(1,)\n",
    "type(a)"
   ]
  },
  {
   "cell_type": "code",
   "execution_count": 86,
   "id": "d147545b",
   "metadata": {},
   "outputs": [
    {
     "ename": "TypeError",
     "evalue": "'tuple' object doesn't support item deletion",
     "output_type": "error",
     "traceback": [
      "\u001b[0;31m---------------------------------------------------------------------------\u001b[0m",
      "\u001b[0;31mTypeError\u001b[0m                                 Traceback (most recent call last)",
      "\u001b[0;32m<ipython-input-86-c47830f0ae67>\u001b[0m in \u001b[0;36m<module>\u001b[0;34m\u001b[0m\n\u001b[0;32m----> 1\u001b[0;31m \u001b[0;32mdel\u001b[0m \u001b[0ma\u001b[0m\u001b[0;34m[\u001b[0m\u001b[0;36m0\u001b[0m\u001b[0;34m]\u001b[0m\u001b[0;34m\u001b[0m\u001b[0;34m\u001b[0m\u001b[0m\n\u001b[0m",
      "\u001b[0;31mTypeError\u001b[0m: 'tuple' object doesn't support item deletion"
     ]
    }
   ],
   "source": [
    "del a[0]"
   ]
  },
  {
   "cell_type": "code",
   "execution_count": 87,
   "id": "355f8364",
   "metadata": {},
   "outputs": [
    {
     "data": {
      "text/plain": [
       "{1, 2, 3}"
      ]
     },
     "execution_count": 87,
     "metadata": {},
     "output_type": "execute_result"
    }
   ],
   "source": [
    "myset={3,1,2}\n",
    "myset"
   ]
  },
  {
   "cell_type": "code",
   "execution_count": 89,
   "id": "c18ac357",
   "metadata": {},
   "outputs": [
    {
     "data": {
      "text/plain": [
       "4"
      ]
     },
     "execution_count": 89,
     "metadata": {},
     "output_type": "execute_result"
    }
   ],
   "source": [
    "mydict={1:2,2:4,3:6}\n",
    "mydict[2]"
   ]
  },
  {
   "cell_type": "code",
   "execution_count": 92,
   "id": "f5caaff8",
   "metadata": {},
   "outputs": [
    {
     "data": {
      "text/plain": [
       "[1, 2, 3, 4, 5, 6, 7, 8]"
      ]
     },
     "execution_count": 92,
     "metadata": {},
     "output_type": "execute_result"
    }
   ],
   "source": [
    "list1=[1,2,3,4,5,6,7,8]\n",
    "list1"
   ]
  },
  {
   "cell_type": "code",
   "execution_count": 100,
   "id": "98cac56f",
   "metadata": {},
   "outputs": [],
   "source": [
    "list1[1:3]=[9,10,11,12,13,14,15]"
   ]
  },
  {
   "cell_type": "code",
   "execution_count": 103,
   "id": "b9c29445",
   "metadata": {},
   "outputs": [
    {
     "data": {
      "text/plain": [
       "[1, 6, 7, 8, 9, 9, 10, 10, 11, 11, 12, 12, 13, 13, 14, 14, 15, 15]"
      ]
     },
     "execution_count": 103,
     "metadata": {},
     "output_type": "execute_result"
    }
   ],
   "source": [
    "list1"
   ]
  },
  {
   "cell_type": "code",
   "execution_count": 102,
   "id": "eece6237",
   "metadata": {},
   "outputs": [
    {
     "name": "stdout",
     "output_type": "stream",
     "text": [
      "None\n"
     ]
    }
   ],
   "source": [
    "print(list1.sort())"
   ]
  },
  {
   "cell_type": "code",
   "execution_count": 108,
   "id": "438cae95",
   "metadata": {},
   "outputs": [
    {
     "name": "stdout",
     "output_type": "stream",
     "text": [
      "6\n",
      "4\n",
      "1 2 3 6 "
     ]
    }
   ],
   "source": [
    "N = int(input())\n",
    "list_ = []\n",
    "for i in range(1,N+1):\n",
    "    if N%i == 0:\n",
    "        list_.append(i)\n",
    "print(len(list_))\n",
    "list_.sort()\n",
    "for x in list_:\n",
    "    print(x, end=' ')\n"
   ]
  },
  {
   "cell_type": "code",
   "execution_count": 109,
   "id": "606d0ec7",
   "metadata": {},
   "outputs": [],
   "source": [
    "nums = [2,7,11,15]\n",
    "target = 9"
   ]
  },
  {
   "cell_type": "code",
   "execution_count": null,
   "id": "ace0c950",
   "metadata": {},
   "outputs": [],
   "source": [
    "for i in range(len(nums)):\n",
    "    if target == nums[i]+nums[i+1]:"
   ]
  },
  {
   "cell_type": "markdown",
   "id": "35ea0d8a",
   "metadata": {},
   "source": [
    "# Implementing GRAPHS"
   ]
  },
  {
   "cell_type": "code",
   "execution_count": 2,
   "id": "67bcfb27",
   "metadata": {},
   "outputs": [
    {
     "name": "stdout",
     "output_type": "stream",
     "text": [
      "1  ->  2  edge weight:  1\n",
      "1  ->  3  edge weight:  1\n",
      "2  ->  3  edge weight:  3\n",
      "3  ->  4  edge weight:  4\n",
      "4  ->  1  edge weight:  5\n",
      "Internal representation:  {1: [[2, 1], [3, 1]], 2: [[3, 3]], 3: [[4, 4]], 4: [[1, 5]]}\n"
     ]
    }
   ],
   "source": [
    "def add_vertex(v):\n",
    "    global graph\n",
    "    global vertices_no\n",
    "    if v in graph:\n",
    "        print(\"Vertex \",v,\" already exists.\")\n",
    "    else:\n",
    "        vertices_no = vertices_no + 1\n",
    "        graph[v] = []\n",
    "\n",
    "def add_edge(v1, v2, e):\n",
    "    global graph\n",
    "    #check if vertex v1 is a valid vertex\n",
    "    if v1 not in graph:\n",
    "        print(\"Vertex \", v1, \" does not exist.\")\n",
    "    #check if vertex v2 is a valid vartex\n",
    "    elif v2 not in graph:\n",
    "        print(\"Vertex \", v2, \" does not exist.\")\n",
    "    else:\n",
    "        #Since this code is not restricted to a directed or\n",
    "        # an undirected graph, an edge between v1 v2 does not\n",
    "        # imply that an edge exists between v2 and v1\n",
    "        \n",
    "        temp = [v2, e]\n",
    "        graph[v1].append(temp)\n",
    "        \n",
    "#print the graph\n",
    "def print_graph():\n",
    "    global graph\n",
    "    for vertex in graph:\n",
    "        for edges in graph[vertex]:\n",
    "            print(vertex,\" -> \",edges[0], \" edge weight: \",\n",
    "                 edges[1])\n",
    "            \n",
    "#driver code\n",
    "graph = {}\n",
    "#stores the number of vertices in the graph\n",
    "vertices_no = 0\n",
    "add_vertex(1)\n",
    "add_vertex(2)\n",
    "add_vertex(3)\n",
    "add_vertex(4)\n",
    "#Add the edges between the vertices by specifying\n",
    "#the form and to vertex along with the edge weights.\n",
    "add_edge(1, 2, 1)\n",
    "add_edge(1, 3, 1)\n",
    "add_edge(2, 3, 3)\n",
    "add_edge(3, 4, 4)\n",
    "add_edge(4, 1, 5)\n",
    "\n",
    "print_graph()\n",
    "\n",
    "print(\"Internal representation: \",graph)\n"
   ]
  },
  {
   "cell_type": "code",
   "execution_count": 6,
   "id": "46efa5dc",
   "metadata": {},
   "outputs": [
    {
     "name": "stdout",
     "output_type": "stream",
     "text": [
      "45 67\n"
     ]
    },
    {
     "ename": "SyntaxError",
     "evalue": "'break' outside loop (<ipython-input-6-cedb34e81cf8>, line 3)",
     "output_type": "error",
     "traceback": [
      "\u001b[0;36m  File \u001b[0;32m\"<ipython-input-6-cedb34e81cf8>\"\u001b[0;36m, line \u001b[0;32m3\u001b[0m\n\u001b[0;31m    break\u001b[0m\n\u001b[0m    ^\u001b[0m\n\u001b[0;31mSyntaxError\u001b[0m\u001b[0;31m:\u001b[0m 'break' outside loop\n"
     ]
    }
   ],
   "source": [
    "# l1 = list(map(int, input().split()))\n",
    "# l2 = list(map(int, input().split()))\n",
    "\n",
    "l1 = [1,2,4]\n",
    "l2 = [1,3,5]\n",
    "l3 = []\n",
    "\n",
    "for i in range(len(l1)):\n",
    "    for j in range(len(l2)):\n",
    "        if l1[i] <= l2[j]:\n",
    "            l3.append(l1[i])\n",
    "            i += 1"
   ]
  },
  {
   "cell_type": "code",
   "execution_count": 8,
   "id": "5df6e6e3",
   "metadata": {},
   "outputs": [
    {
     "ename": "SyntaxError",
     "evalue": "unexpected EOF while parsing (<ipython-input-8-9cd743680509>, line 6)",
     "output_type": "error",
     "traceback": [
      "\u001b[0;36m  File \u001b[0;32m\"<ipython-input-8-9cd743680509>\"\u001b[0;36m, line \u001b[0;32m6\u001b[0m\n\u001b[0;31m    class Stack_Operation():\u001b[0m\n\u001b[0m                            ^\u001b[0m\n\u001b[0;31mSyntaxError\u001b[0m\u001b[0;31m:\u001b[0m unexpected EOF while parsing\n"
     ]
    }
   ],
   "source": [
    "class Stack_Node():\n",
    "    def __init__(self,size):\n",
    "        self.data = None\n",
    "        self.top = 0\n",
    "        self.next = None\n",
    "        self.size = size\n",
    "\n",
    "class Stack_Operation():\n",
    "    stack = Stack_Node()\n",
    "    def insert(self, elem):\n",
    "        if stack.top == self.size:\n",
    "            print(\"Overflow\")\n",
    "        else:\n",
    "            stack.next = Stack_Node()\n",
    "            stack.next.top = stack.top+1\n",
    "            \n",
    "            \n",
    "stack = Stack_Node()"
   ]
  },
  {
   "cell_type": "code",
   "execution_count": 19,
   "id": "ea8f1712",
   "metadata": {},
   "outputs": [
    {
     "name": "stdout",
     "output_type": "stream",
     "text": [
      "hello\n"
     ]
    }
   ],
   "source": [
    "# Definition for a binary tree node.\n",
    "class TreeNode:\n",
    "    def __init__(self, val=0, left=None, right=None):\n",
    "        self.val = val\n",
    "        self.left = left\n",
    "        self.right = right\n",
    "class Solution:\n",
    "    def invertTree(self, root):\n",
    "        print(\"hello\")\n",
    "        \n",
    "    def createTree(self,lst):\n",
    "        node = TreeNode(lst[0])\n",
    "        for elem in lst:\n",
    "            if elem < temp.val:\n",
    "                temp.left = elem\n",
    "            else:\n",
    "                temp.right = elem\n",
    "            \n",
    "\n",
    "s = Solution()\n",
    "s.invertTree(5)\n",
    "\n",
    "\n",
    "\n",
    "\n",
    "\n",
    "\n",
    "\n",
    "\n"
   ]
  },
  {
   "cell_type": "code",
   "execution_count": 16,
   "id": "eb23c290",
   "metadata": {},
   "outputs": [
    {
     "name": "stdout",
     "output_type": "stream",
     "text": [
      "hello\n"
     ]
    }
   ],
   "source": [
    "s = Solution()\n",
    "s.invertTree(5)"
   ]
  },
  {
   "cell_type": "code",
   "execution_count": 24,
   "id": "57baa372",
   "metadata": {},
   "outputs": [
    {
     "name": "stdout",
     "output_type": "stream",
     "text": [
      "83765\n"
     ]
    }
   ],
   "source": [
    "X = 56738\n",
    "string = \"\"\n",
    "while X//10:\n",
    "    last_digit = X%10\n",
    "    X = X//10\n",
    "    string += str(last_digit)\n",
    "string += str(X)\n",
    "print(string)"
   ]
  },
  {
   "cell_type": "code",
   "execution_count": null,
   "id": "87aecca5",
   "metadata": {},
   "outputs": [],
   "source": [
    "# Given an integer, return the integer with reversed digits.\n",
    "# Note: The integer could be either positive or negative.\n",
    "\n",
    "def solution(x):\n",
    "    string = str(x)\n",
    "    \n",
    "    if string[0] == '-':\n",
    "        return int('-'+string[:0:-1])\n",
    "    else:\n",
    "        return int(string[::-1])\n",
    "    \n",
    "print(solution(-231))\n",
    "print(solution(345))"
   ]
  },
  {
   "cell_type": "code",
   "execution_count": 25,
   "id": "22a222af",
   "metadata": {},
   "outputs": [],
   "source": [
    "string = \"23456\""
   ]
  },
  {
   "cell_type": "code",
   "execution_count": 26,
   "id": "edfb5b97",
   "metadata": {},
   "outputs": [
    {
     "data": {
      "text/plain": [
       "'2'"
      ]
     },
     "execution_count": 26,
     "metadata": {},
     "output_type": "execute_result"
    }
   ],
   "source": [
    "string[0]"
   ]
  },
  {
   "cell_type": "code",
   "execution_count": 27,
   "id": "dd95544a",
   "metadata": {},
   "outputs": [
    {
     "data": {
      "text/plain": [
       "'65432'"
      ]
     },
     "execution_count": 27,
     "metadata": {},
     "output_type": "execute_result"
    }
   ],
   "source": [
    "string[:0:-1]"
   ]
  },
  {
   "cell_type": "code",
   "execution_count": 28,
   "id": "572549ad",
   "metadata": {},
   "outputs": [
    {
     "data": {
      "text/plain": [
       "'6543'"
      ]
     },
     "execution_count": 28,
     "metadata": {},
     "output_type": "execute_result"
    }
   ],
   "source": [
    "string[:0:-1]"
   ]
  },
  {
   "cell_type": "code",
   "execution_count": 37,
   "id": "28b0909e",
   "metadata": {},
   "outputs": [
    {
     "name": "stdout",
     "output_type": "stream",
     "text": [
      "[]\n"
     ]
    }
   ],
   "source": [
    "s = \"This is my string. For average word length\"\n",
    "count_space = 0\n",
    "count_word_length = 0\n",
    "list_ = []\n",
    "for i in s:\n",
    "    \n",
    "    if not i==\" \":\n",
    "        count_word_length += 1\n",
    "    elif i==\"\":\n",
    "        list_.append(count_word_length)\n",
    "print(list_)"
   ]
  },
  {
   "cell_type": "code",
   "execution_count": 42,
   "id": "c571696b",
   "metadata": {},
   "outputs": [
    {
     "data": {
      "text/plain": [
       "2.43"
      ]
     },
     "execution_count": 42,
     "metadata": {},
     "output_type": "execute_result"
    }
   ],
   "source": [
    "s = \"This is my string...For average word length\"\n",
    "\n",
    "for p in \"!?',;.\":\n",
    "    s = s.replace(p, '')\n",
    "w = s.split()    \n",
    "round(sum(len(word) for word in w)/len(w)/2,2)\n"
   ]
  },
  {
   "cell_type": "code",
   "execution_count": null,
   "id": "b2125368",
   "metadata": {},
   "outputs": [],
   "source": []
  }
 ],
 "metadata": {
  "kernelspec": {
   "display_name": "Python 3",
   "language": "python",
   "name": "python3"
  },
  "language_info": {
   "codemirror_mode": {
    "name": "ipython",
    "version": 3
   },
   "file_extension": ".py",
   "mimetype": "text/x-python",
   "name": "python",
   "nbconvert_exporter": "python",
   "pygments_lexer": "ipython3",
   "version": "3.8.10"
  }
 },
 "nbformat": 4,
 "nbformat_minor": 5
}
